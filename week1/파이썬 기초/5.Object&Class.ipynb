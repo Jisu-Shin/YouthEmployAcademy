{
 "cells": [
  {
   "cell_type": "markdown",
   "metadata": {},
   "source": [
    "# 객체와 클래스"
   ]
  },
  {
   "cell_type": "code",
   "execution_count": 9,
   "metadata": {},
   "outputs": [],
   "source": [
    "class Dog: #Dog() Dog(Object) 세개 다 같음\n",
    "    dog_count = 0 #class attrs\n",
    "    \n",
    "    def __init__(self,name,color): #생성자\n",
    "        self.__hungry=0 #외부접금금지\n",
    "        self.name = name\n",
    "        self.color = color\n",
    "        Dog.dog_count+=1\n",
    "        \n",
    "    def eat(self): #method\n",
    "        self.__hungry+=10\n",
    "        print(\"밥먹음\",self.__hungry)\n",
    "        \n",
    "    def walk(self):\n",
    "        self.__hungry -=10\n",
    "        print('산책',self.__hungry)\n",
    "        \n",
    "    def get_hungry(self):\n",
    "        return self.__hungry"
   ]
  },
  {
   "cell_type": "code",
   "execution_count": 10,
   "metadata": {},
   "outputs": [],
   "source": [
    "choco = Dog(\"choco\", \"black\")\n",
    "jjong = Dog(\"jjong\", \"white\")"
   ]
  },
  {
   "cell_type": "code",
   "execution_count": 11,
   "metadata": {
    "scrolled": true
   },
   "outputs": [
    {
     "name": "stdout",
     "output_type": "stream",
     "text": [
      "밥먹음 10\n"
     ]
    },
    {
     "data": {
      "text/plain": [
       "'black'"
      ]
     },
     "execution_count": 11,
     "metadata": {},
     "output_type": "execute_result"
    }
   ],
   "source": [
    "choco.eat()\n",
    "choco.color # 변수이므로 괄호 없음"
   ]
  },
  {
   "cell_type": "code",
   "execution_count": 12,
   "metadata": {
    "scrolled": true
   },
   "outputs": [
    {
     "ename": "AttributeError",
     "evalue": "'Dog' object has no attribute 'hungry'",
     "output_type": "error",
     "traceback": [
      "\u001b[1;31m---------------------------------------------------------------------------\u001b[0m",
      "\u001b[1;31mAttributeError\u001b[0m                            Traceback (most recent call last)",
      "\u001b[1;32m<ipython-input-12-6774732b4c99>\u001b[0m in \u001b[0;36m<module>\u001b[1;34m\u001b[0m\n\u001b[1;32m----> 1\u001b[1;33m \u001b[0mjjong\u001b[0m\u001b[1;33m.\u001b[0m\u001b[0mhungry\u001b[0m \u001b[1;31m# private라 접근 불가능\u001b[0m\u001b[1;33m\u001b[0m\u001b[1;33m\u001b[0m\u001b[0m\n\u001b[0m",
      "\u001b[1;31mAttributeError\u001b[0m: 'Dog' object has no attribute 'hungry'"
     ]
    }
   ],
   "source": [
    "jjong.hungry # private라 접근 불가능"
   ]
  },
  {
   "cell_type": "code",
   "execution_count": 13,
   "metadata": {},
   "outputs": [
    {
     "name": "stdout",
     "output_type": "stream",
     "text": [
      "-324\n"
     ]
    }
   ],
   "source": [
    "jjong.hungry = -324\n",
    "print(jjong.hungry) # 새로운 변수를 만든 것처럼..?"
   ]
  },
  {
   "cell_type": "code",
   "execution_count": 14,
   "metadata": {
    "scrolled": true
   },
   "outputs": [
    {
     "name": "stdout",
     "output_type": "stream",
     "text": [
      "0\n",
      "jjong\n",
      "white\n",
      "밥먹음 10\n",
      "10\n"
     ]
    }
   ],
   "source": [
    "print(jjong.get_hungry()) #위를 반영하지 못함\n",
    "print(jjong.name) # jjong\n",
    "print(jjong.color) # white\n",
    "jjong.eat()\n",
    "print(jjong.get_hungry())"
   ]
  },
  {
   "cell_type": "markdown",
   "metadata": {},
   "source": [
    "## 클래스 속성 "
   ]
  },
  {
   "cell_type": "code",
   "execution_count": 64,
   "metadata": {},
   "outputs": [],
   "source": [
    "class Dog: #Dog() Dog(Object) 세개 다 같음\n",
    "    dog_count = 0 #class attrs\n",
    "    \n",
    "    def __init__(self,name,color): #생성자\n",
    "        self.__hungry=0 #외부접금금지\n",
    "        self.name = name\n",
    "        self.color = color\n",
    "        Dog.dog_count+=1\n",
    "        \n",
    "    def eat(self): #method\n",
    "        self.__hungry+=10\n",
    "        print(\"밥먹음\",self.__hungry)\n",
    "        \n",
    "    def walk(self):\n",
    "        self.__hungry -=10\n",
    "        print('산책',self.__hungry)\n",
    "        \n",
    "    def get_hungry(self):\n",
    "        return self.__hungry\n",
    "    \n",
    "    #decorator 함수를 인자로 받는 함수\n",
    "    @classmethod #cls를 사용할때 꼭 써줘야함\n",
    "    def create_black_dog(cls, name): #cls = Dog 자기자신 클래스\n",
    "        print(\"현재 강아지수:\", cls.dog_count)\n",
    "        return cls(name,'Black')\n",
    "    \n",
    "    @staticmethod #정적메소드\n",
    "    def intro():\n",
    "        print(\"안녕하세요. 동물의 숲입니다.\")\n",
    "        \n",
    "    def __str__(self):\n",
    "        return str({\n",
    "            'name' : self.name,\n",
    "            'color' : self.color\n",
    "        })\n",
    "    \"\"\"\n",
    "    def __repr__(self):\n",
    "        return str({\n",
    "            'name' : self.name,\n",
    "            'color' : self.color\n",
    "        })\n",
    "    \"\"\""
   ]
  },
  {
   "cell_type": "code",
   "execution_count": 65,
   "metadata": {},
   "outputs": [
    {
     "name": "stdout",
     "output_type": "stream",
     "text": [
      "현재 강아지수: 0\n",
      "{'name': 'choco', 'color': 'Black'}\n"
     ]
    }
   ],
   "source": [
    "choco = Dog.create_black_dog(\"choco\")\n",
    "print(choco)"
   ]
  },
  {
   "cell_type": "code",
   "execution_count": 17,
   "metadata": {
    "scrolled": true
   },
   "outputs": [
    {
     "name": "stdout",
     "output_type": "stream",
     "text": [
      "밥먹음 10\n",
      "밥먹음 20\n",
      "산책 10\n",
      "choco\n",
      "1\n"
     ]
    }
   ],
   "source": [
    "choco.eat()\n",
    "choco.eat()\n",
    "choco.walk()\n",
    "print(choco.name)\n",
    "print(Dog.dog_count)"
   ]
  },
  {
   "cell_type": "code",
   "execution_count": 18,
   "metadata": {},
   "outputs": [
    {
     "name": "stdout",
     "output_type": "stream",
     "text": [
      "안녕하세요. 동물의 숲입니다.\n"
     ]
    }
   ],
   "source": [
    "Dog.intro()"
   ]
  },
  {
   "cell_type": "code",
   "execution_count": 19,
   "metadata": {},
   "outputs": [
    {
     "name": "stdout",
     "output_type": "stream",
     "text": [
      "0\n",
      "jjong\n",
      "white\n"
     ]
    }
   ],
   "source": [
    "jjong = Dog(\"jjong\",\"white\") #jjong은 인스턴스\n",
    "print(jjong.get_hungry())\n",
    "print(jjong.name)\n",
    "print(jjong.color)"
   ]
  },
  {
   "cell_type": "code",
   "execution_count": 20,
   "metadata": {},
   "outputs": [
    {
     "name": "stdout",
     "output_type": "stream",
     "text": [
      "-324\n"
     ]
    }
   ],
   "source": [
    "jjong.hungry = -324\n",
    "print(jjong.hungry)"
   ]
  },
  {
   "cell_type": "code",
   "execution_count": 21,
   "metadata": {},
   "outputs": [
    {
     "name": "stdout",
     "output_type": "stream",
     "text": [
      "밥먹음 10\n"
     ]
    }
   ],
   "source": [
    "jjong.eat()"
   ]
  },
  {
   "cell_type": "code",
   "execution_count": 22,
   "metadata": {},
   "outputs": [
    {
     "data": {
      "text/plain": [
       "10"
      ]
     },
     "execution_count": 22,
     "metadata": {},
     "output_type": "execute_result"
    }
   ],
   "source": [
    "jjong.get_hungry()"
   ]
  },
  {
   "cell_type": "code",
   "execution_count": 23,
   "metadata": {},
   "outputs": [
    {
     "data": {
      "text/plain": [
       "2"
      ]
     },
     "execution_count": 23,
     "metadata": {},
     "output_type": "execute_result"
    }
   ],
   "source": [
    "Dog.dog_count"
   ]
  },
  {
   "cell_type": "markdown",
   "metadata": {},
   "source": [
    "Car 클래스를 만드세요\n",
    "\n",
    "객체 생성시 차이름, 배기량, 생산년도 입력받으세요\n",
    "\n",
    "객체 생성시 등록된 차이름, 배기량, 생산년도는 직접 변경하지 못합니다\n",
    "\n",
    "차 이름을 변경하는 함수를 만드세요\n",
    "\n",
    "배기량에 따라 1000CC 이하 소형\n",
    "                        1000CC 이상 2000CC 이하 중형<br>\n",
    "                        2000CC 이상 대형을 출력하는 함수를 만드세요\n",
    "\n",
    "객체 생성시마다 등록된 차량 갯수를 기록해주세요\n",
    "\n",
    "총 등록된 차량개수를 출력하는 클래스 함수를 만드세요"
   ]
  },
  {
   "cell_type": "code",
   "execution_count": 24,
   "metadata": {},
   "outputs": [],
   "source": [
    "class Car:\n",
    "    count=0\n",
    "    def __init__(self,name,cc,year):\n",
    "        self.__speed=0\n",
    "        self.__name = name\n",
    "        self.__cc = cc\n",
    "        self.__year = year\n",
    "        Car.count+=1\n",
    "    \n",
    "    @classmethod\n",
    "    def get_total_count(cls):\n",
    "        print(cls.count)\n",
    "        return cls.count\n",
    "    \n",
    "    def set_name(self,name):\n",
    "        self.__name = name\n",
    "        return self.__name\n",
    "    \n",
    "    def size(self):\n",
    "        size = None\n",
    "        if self.__cc<1000:\n",
    "            size = \"소형\"\n",
    "        elif self.__cc<=2000:\n",
    "            size = \"중형\"\n",
    "        else:\n",
    "            size=\"대형\"\n",
    "        print(size)\n",
    "        return size\n",
    "        \n",
    "    def get_name(self):\n",
    "        return self.__name\n",
    "    \n",
    "    def get_cc(self):\n",
    "        return self.__cc\n",
    "        \n",
    "    def get_prod_year(self):\n",
    "        return self.__year\n",
    "    \n",
    "    def excel(self):\n",
    "        self.__speed+=10\n",
    "    \n",
    "    def breaks(self):\n",
    "        self.__speed-=10\n",
    "        if self.__speed<0:\n",
    "            self.__speed=0\n",
    "            \n",
    "    @property\n",
    "    def speed(self):\n",
    "        return self.__speed\n"
   ]
  },
  {
   "cell_type": "code",
   "execution_count": 25,
   "metadata": {},
   "outputs": [],
   "source": [
    "red = Car(\"red\",2000,1997)"
   ]
  },
  {
   "cell_type": "code",
   "execution_count": 26,
   "metadata": {},
   "outputs": [
    {
     "name": "stdout",
     "output_type": "stream",
     "text": [
      "중형\n",
      "1\n",
      "red\n",
      "2000\n",
      "1997\n",
      "black\n"
     ]
    }
   ],
   "source": [
    "red.size()\n",
    "Car.get_total_count()\n",
    "print(red.get_name())\n",
    "print(red.get_cc())\n",
    "print(red.get_prod_year())\n",
    "red.set_name(\"black\")\n",
    "print(red.get_name())"
   ]
  },
  {
   "cell_type": "code",
   "execution_count": 27,
   "metadata": {},
   "outputs": [
    {
     "name": "stdout",
     "output_type": "stream",
     "text": [
      "자동차속도 20\n",
      "자동차속도 0\n"
     ]
    }
   ],
   "source": [
    "red.excel()\n",
    "red.excel()\n",
    "print(\"자동차속도\",red.speed)\n",
    "red.breaks()\n",
    "red.breaks()\n",
    "red.breaks()\n",
    "print(\"자동차속도\",red.speed)"
   ]
  },
  {
   "cell_type": "markdown",
   "metadata": {},
   "source": [
    "# 상속"
   ]
  },
  {
   "cell_type": "code",
   "execution_count": 28,
   "metadata": {},
   "outputs": [],
   "source": [
    "class Car(object):\n",
    "    def __init__(self, wheel):\n",
    "        for w in wheel:\n",
    "            if w.size != 40:\n",
    "                return False\n",
    "        self.wheel = wheel"
   ]
  },
  {
   "cell_type": "code",
   "execution_count": 29,
   "metadata": {},
   "outputs": [],
   "source": [
    "class Wheel(object):\n",
    "    def __init__(self, size):\n",
    "        self.size = size\n",
    "        self.shield = 30"
   ]
  },
  {
   "cell_type": "code",
   "execution_count": 30,
   "metadata": {},
   "outputs": [],
   "source": [
    "wheels = [Wheel(40),Wheel(40),Wheel(40),Wheel(40)]\n",
    "car = Car(wheels)"
   ]
  },
  {
   "cell_type": "markdown",
   "metadata": {},
   "source": [
    "### 동물의 숲"
   ]
  },
  {
   "cell_type": "code",
   "execution_count": 31,
   "metadata": {},
   "outputs": [],
   "source": [
    "class Animal():\n",
    "    def __init__(self,name):\n",
    "        self.__hungry =0\n",
    "        self.name = name\n",
    "        \n",
    "    def intro(self):\n",
    "        print(\"안녕하세요. 동물의 숲입니다.\")\n",
    "    \n",
    "    def eat(self):\n",
    "        self.__hungry -=10"
   ]
  },
  {
   "cell_type": "code",
   "execution_count": 32,
   "metadata": {},
   "outputs": [],
   "source": [
    "class Dog(Animal):\n",
    "    def __init__(self,name,type_):\n",
    "        self.type_=type_\n",
    "        super().__init__(name)\n",
    "    pass"
   ]
  },
  {
   "cell_type": "code",
   "execution_count": 33,
   "metadata": {},
   "outputs": [],
   "source": [
    "class Cat(Animal):\n",
    "    pass"
   ]
  },
  {
   "cell_type": "code",
   "execution_count": 46,
   "metadata": {},
   "outputs": [],
   "source": [
    "dog1 = Dog(\"puppy\",\"Dog\")\n",
    "cat1 = Cat(\"kitty\")"
   ]
  },
  {
   "cell_type": "code",
   "execution_count": 47,
   "metadata": {},
   "outputs": [
    {
     "name": "stdout",
     "output_type": "stream",
     "text": [
      "안녕하세요. 동물의 숲입니다.\n",
      "안녕하세요. 동물의 숲입니다.\n"
     ]
    }
   ],
   "source": [
    "dog1.intro()\n",
    "cat1.intro()"
   ]
  },
  {
   "cell_type": "code",
   "execution_count": 39,
   "metadata": {},
   "outputs": [],
   "source": [
    "from abc import ABCMeta, abstractmethod"
   ]
  },
  {
   "cell_type": "code",
   "execution_count": 40,
   "metadata": {},
   "outputs": [],
   "source": [
    "class Bird(Animal):\n",
    "    def fly(self):\n",
    "        pass\n",
    "\n",
    "class LandAnimal(Animal,metaclass=ABCMeta):\n",
    "    def __init__(self, name):\n",
    "        super().__init__(name) #부모 클래스 받음\n",
    "    #def walk(self):\n",
    "    #    pass\n",
    "    \n",
    "    @abstractmethod\n",
    "    def walk(self):\n",
    "        pass\n",
    "\n",
    "class SeaAnimal(Animal):\n",
    "    def swim(self):\n",
    "        pass\n"
   ]
  },
  {
   "cell_type": "code",
   "execution_count": 41,
   "metadata": {},
   "outputs": [],
   "source": [
    "class Craw(Bird):\n",
    "    def cry(self):\n",
    "        print(\"까악 까악\")"
   ]
  },
  {
   "cell_type": "code",
   "execution_count": 42,
   "metadata": {},
   "outputs": [],
   "source": [
    "class Lion(LandAnimal):\n",
    "    def __init__(self,name,type_):\n",
    "        self.type_=type_\n",
    "        super().__init__(name)\n",
    "        \n",
    "    def intro(self): #메소드 오버라이딩\n",
    "        print(\"여기 선물상자가 있어요\")\n",
    "        super().intro()\n",
    "        \n",
    "    def walk(self):\n",
    "        print(\"걷기. 터벅터벅\")\n",
    "        \n",
    "    def cry(self):\n",
    "        print(\"어흥\")"
   ]
  },
  {
   "cell_type": "code",
   "execution_count": 43,
   "metadata": {},
   "outputs": [
    {
     "name": "stdout",
     "output_type": "stream",
     "text": [
      "어흥\n",
      "여기 선물상자가 있어요\n",
      "안녕하세요. 동물의 숲입니다.\n"
     ]
    }
   ],
   "source": [
    "lion1 = Lion(\"어흥이\",\"아프리카사자\")\n",
    "lion1.cry()\n",
    "lion1.intro()"
   ]
  },
  {
   "cell_type": "code",
   "execution_count": 44,
   "metadata": {},
   "outputs": [
    {
     "data": {
      "text/plain": [
       "'아프리카사자'"
      ]
     },
     "execution_count": 44,
     "metadata": {},
     "output_type": "execute_result"
    }
   ],
   "source": [
    "lion1.type_"
   ]
  },
  {
   "cell_type": "code",
   "execution_count": 48,
   "metadata": {},
   "outputs": [
    {
     "name": "stdout",
     "output_type": "stream",
     "text": [
      "안녕하세요. 동물의 숲입니다.\n"
     ]
    }
   ],
   "source": [
    "cat1.intro()"
   ]
  },
  {
   "cell_type": "code",
   "execution_count": 49,
   "metadata": {},
   "outputs": [
    {
     "name": "stdout",
     "output_type": "stream",
     "text": [
      "걷기. 터벅터벅\n"
     ]
    }
   ],
   "source": [
    "lion1.walk()"
   ]
  },
  {
   "cell_type": "code",
   "execution_count": null,
   "metadata": {},
   "outputs": [],
   "source": [
    "def Tiger(LandAnimal):\n",
    "    def walk(self):\n",
    "        print('으르렁')\n",
    "        "
   ]
  },
  {
   "cell_type": "markdown",
   "metadata": {},
   "source": [
    " # 다중상속"
   ]
  },
  {
   "cell_type": "code",
   "execution_count": 50,
   "metadata": {},
   "outputs": [],
   "source": [
    "class Bird(Animal):\n",
    "    def __init__(self,name):\n",
    "        self.has_wing = True\n",
    "        super().__init__(name)"
   ]
  },
  {
   "cell_type": "code",
   "execution_count": 51,
   "metadata": {},
   "outputs": [],
   "source": [
    "class Fliable(object, metaclass=ABCMeta):\n",
    "    @abstractmethod\n",
    "    def fly(self):\n",
    "        pass\n",
    "        "
   ]
  },
  {
   "cell_type": "code",
   "execution_count": 52,
   "metadata": {},
   "outputs": [],
   "source": [
    "class Walkable(object, metaclass=ABCMeta):\n",
    "    @abstractmethod\n",
    "    def walk(self):\n",
    "        pass"
   ]
  },
  {
   "cell_type": "code",
   "execution_count": 53,
   "metadata": {},
   "outputs": [],
   "source": [
    "class Ostrich(Bird,Walkable):\n",
    "    def __init__(self, name):\n",
    "        super().__init__(name)\n",
    "    def walk(self):\n",
    "        print(\"턱턱\")"
   ]
  },
  {
   "cell_type": "code",
   "execution_count": 57,
   "metadata": {},
   "outputs": [
    {
     "name": "stdout",
     "output_type": "stream",
     "text": [
      "턱턱\n"
     ]
    }
   ],
   "source": [
    "o1= Ostrich(\"타조1\")\n",
    "o1.walk()"
   ]
  },
  {
   "cell_type": "code",
   "execution_count": null,
   "metadata": {},
   "outputs": [],
   "source": []
  }
 ],
 "metadata": {
  "kernelspec": {
   "display_name": "Python 3",
   "language": "python",
   "name": "python3"
  },
  "language_info": {
   "codemirror_mode": {
    "name": "ipython",
    "version": 3
   },
   "file_extension": ".py",
   "mimetype": "text/x-python",
   "name": "python",
   "nbconvert_exporter": "python",
   "pygments_lexer": "ipython3",
   "version": "3.8.3"
  }
 },
 "nbformat": 4,
 "nbformat_minor": 4
}
