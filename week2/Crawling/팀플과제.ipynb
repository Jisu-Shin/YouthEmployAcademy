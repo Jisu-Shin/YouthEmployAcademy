{
 "cells": [
  {
   "cell_type": "code",
   "execution_count": 5,
   "metadata": {},
   "outputs": [],
   "source": [
    "import requests\n",
    "from bs4 import BeautifulSoup"
   ]
  },
  {
   "cell_type": "code",
   "execution_count": 64,
   "metadata": {},
   "outputs": [],
   "source": [
    "def find_price(food):\n",
    "    base_url = 'https://www.gsshop.com/shop/mart/martSearch.gs'\n",
    "    params={\n",
    "        'supCd':'1036018',\n",
    "        'mq':food,\n",
    "        'lesq':'417375'\n",
    "    }\n",
    "    headers={\n",
    "         'User-Agent':'Mozilla/5.0 (Windows NT 10.0; Win64; x64) AppleWebKit/537.36 (KHTML, like Gecko) Chrome/84.0.4147.105 Safari/537.36'\n",
    "    }\n",
    "\n",
    "    resp = requests.get(base_url,params=params,headers=headers)\n",
    "    soup = BeautifulSoup(resp.text)\n",
    "    li_tags=soup.select('section#searchPrdList>ul>li')\n",
    "    list1 = []\n",
    "    for li in li_tags[:6]:\n",
    "        #비고찾기\n",
    "        img_tag =li.find('span',class_='badge-mart-label')\n",
    "        if img_tag == None:\n",
    "            etc=''\n",
    "        else : \n",
    "            etc=img_tag.find('img').get('alt')\n",
    "        \n",
    "        prd_name = li.find('dt').text.strip()\n",
    "        discount = li.find('span',class_='price-discount')\n",
    "        prd_price = li.find('span',class_='set-price').text\n",
    "        upper = li.find('del',class_='price-upper')\n",
    "        link = li.find('a',class_='prd-item').get('href')\n",
    "        if discount== None:\n",
    "            discount = \"\"\n",
    "            upper = \"\"\n",
    "        else :\n",
    "            discount = discount.text\n",
    "            upper = int(upper.text.replace(',','')[:-1])\n",
    "            \n",
    "        list1.append({\n",
    "            '상품명':prd_name,\n",
    "            '할인율':discount,\n",
    "            '원가격':upper,\n",
    "            '최종가격':int(prd_price.replace(',','')[:-1]),\n",
    "            '비고':etc,\n",
    "            '링크':link\n",
    "        })\n",
    "    return list1"
   ]
  },
  {
   "cell_type": "code",
   "execution_count": 65,
   "metadata": {
    "scrolled": true
   },
   "outputs": [],
   "source": [
    "def get_list(buys):\n",
    "    bucket_list=[]\n",
    "    #aa=[]\n",
    "    for buy in buys:\n",
    "        foodlist = find_price(buy)\n",
    "        #aa=sorted(flist, key=(lambda x: int(x['판매가'].replace(',','')[:-1])))\n",
    "        choice={}\n",
    "        name_sp = buy.split(\" \")\n",
    "        for f in foodlist:\n",
    "            prd_name = f['상품명']\n",
    "            buy_cnt=0\n",
    "            for n in name_sp:\n",
    "                if n in prd_name :\n",
    "                    buy_cnt+=1\n",
    "            if buy_cnt==len(name_sp):\n",
    "                choice = f\n",
    "                break;\n",
    "        if choice == {} :\n",
    "            choice={\n",
    "                '상품명':buy,\n",
    "                '할인율':'',\n",
    "                '원가격':'',\n",
    "                '최종가격':0,\n",
    "                '비고':'제품을 찾을 수 없습니다',\n",
    "                '링크':None\n",
    "            }\n",
    "        price= choice.get('판매가')\n",
    "        bucket_list.append(choice)\n",
    "    return bucket_list"
   ]
  },
  {
   "cell_type": "code",
   "execution_count": 66,
   "metadata": {},
   "outputs": [],
   "source": [
    "def input_prod():\n",
    "    prod_list=[]\n",
    "    prod=input('상품을 입력해주세요(빈칸을 입력할경우 종료됩니다):')\n",
    "    while prod!='' :\n",
    "        prod_list.append(prod)\n",
    "        prod=input('상품을 입력해주세요(빈칸을 입력할경우 종료됩니다):')\n",
    "    return get_list(prod_list)"
   ]
  },
  {
   "cell_type": "code",
   "execution_count": 85,
   "metadata": {
    "scrolled": false
   },
   "outputs": [
    {
     "name": "stdout",
     "output_type": "stream",
     "text": [
      "상품을 입력해주세요(빈칸을 입력할경우 종료됩니다):분유\n",
      "상품을 입력해주세요(빈칸을 입력할경우 종료됩니다):대파\n",
      "상품을 입력해주세요(빈칸을 입력할경우 종료됩니다):양파\n",
      "상품을 입력해주세요(빈칸을 입력할경우 종료됩니다):\n"
     ]
    }
   ],
   "source": [
    "li1=input_prod()"
   ]
  },
  {
   "cell_type": "code",
   "execution_count": 86,
   "metadata": {},
   "outputs": [],
   "source": [
    "import pandas as pd\n",
    "li_df=pd.DataFrame(li1)\n",
    "df = li_df.drop(['링크'],axis=1 )"
   ]
  },
  {
   "cell_type": "code",
   "execution_count": 92,
   "metadata": {
    "scrolled": true
   },
   "outputs": [
    {
     "name": "stdout",
     "output_type": "stream",
     "text": [
      "                              상품명  할인율   원가격  최종가격             비고  \\\n",
      "0                              분유                0  제품을 찾을 수 없습니다   \n",
      "1       [GSfresh]국산 흙대파 1단(1KG내외)  17%  2980  2480           전단상품   \n",
      "2  [GSfresh]국산 햇양파 4~8입(1.5kg내외 망             3980           전단상품   \n",
      "\n",
      "                                              링크  \n",
      "0                                           None  \n",
      "1  /prd/prd.gs?prdid=59266203&rank=1&lseq=417383  \n",
      "2  /prd/prd.gs?prdid=59693343&rank=1&lseq=417383  \n",
      "                              상품명  할인율   원가격  최종가격             비고\n",
      "0                              분유                0  제품을 찾을 수 없습니다\n",
      "1       [GSfresh]국산 흙대파 1단(1KG내외)  17%  2980  2480           전단상품\n",
      "2  [GSfresh]국산 햇양파 4~8입(1.5kg내외 망             3980           전단상품\n"
     ]
    }
   ],
   "source": [
    "print(li_df)\n",
    "print(df)"
   ]
  },
  {
   "cell_type": "code",
   "execution_count": 93,
   "metadata": {},
   "outputs": [],
   "source": [
    "def select_gs(li1):\n",
    "    from selenium import webdriver\n",
    "    driver = webdriver.Chrome()\n",
    "    driver.maximize_window()\n",
    "    driver.implicitly_wait(30) # seconds 묵시적 기다리는 것 \n",
    "    \n",
    "    #로그인\n",
    "    driver.get('https://www.gsshop.com/cust/login/login.gs')\n",
    "    my_id=''\n",
    "    my_pass=''\n",
    "\n",
    "    cum_id=driver.find_element_by_id('id')\n",
    "    cum_id.click()\n",
    "    cum_id.send_keys(my_id)\n",
    "    cum_pass=driver.find_element_by_id('passwd')\n",
    "    cum_pass.click()\n",
    "    cum_pass.send_keys(my_pass)\n",
    "    cum_login=driver.find_element_by_id('btnLogin')\n",
    "    cum_login.click()\n",
    "    \n",
    "    #장바구니 담기\n",
    "    for i in li1:\n",
    "        base_url='http://www.gsshop.com'\n",
    "        link = i['링크']\n",
    "        if link==None:\n",
    "            continue\n",
    "        url=base_url+link\n",
    "        driver.get(url)\n",
    "        addcart =driver.find_element_by_id('addCartButton')\n",
    "        addcart.click()\n",
    "\n",
    "    #장바구니 창이동\n",
    "    gocart=driver.find_element_by_id('goAddCartButtn')\n",
    "    gocart.click()\n",
    "    "
   ]
  },
  {
   "cell_type": "code",
   "execution_count": 94,
   "metadata": {},
   "outputs": [],
   "source": [
    "select_gs(li1)"
   ]
  },
  {
   "cell_type": "code",
   "execution_count": 80,
   "metadata": {
    "scrolled": true
   },
   "outputs": [],
   "source": [
    "driver.close()"
   ]
  },
  {
   "cell_type": "code",
   "execution_count": null,
   "metadata": {},
   "outputs": [],
   "source": [
    "# driver.implicitly_wait"
   ]
  },
  {
   "cell_type": "code",
   "execution_count": null,
   "metadata": {},
   "outputs": [],
   "source": []
  },
  {
   "cell_type": "code",
   "execution_count": null,
   "metadata": {},
   "outputs": [],
   "source": [
    "\n",
    "#from selenium.webdriver.common.by import By\n",
    "#from selenium.webdriver.support.ui import WebDriverWait\n",
    "#from selenium.webdriver.support import expected_conditions as EC\n",
    "\n",
    "# 암시적으로 기다리는 것\n",
    "#cum_id = WebDriverWait(driver, 30).until(\n",
    "#            EC.presence_of_element_located((By.ID, \"id\"))\n",
    "#        )"
   ]
  },
  {
   "cell_type": "code",
   "execution_count": null,
   "metadata": {},
   "outputs": [],
   "source": []
  },
  {
   "cell_type": "code",
   "execution_count": null,
   "metadata": {},
   "outputs": [],
   "source": []
  }
 ],
 "metadata": {
  "kernelspec": {
   "display_name": "Python 3",
   "language": "python",
   "name": "python3"
  },
  "language_info": {
   "codemirror_mode": {
    "name": "ipython",
    "version": 3
   },
   "file_extension": ".py",
   "mimetype": "text/x-python",
   "name": "python",
   "nbconvert_exporter": "python",
   "pygments_lexer": "ipython3",
   "version": "3.8.3"
  },
  "toc": {
   "base_numbering": 1,
   "nav_menu": {},
   "number_sections": true,
   "sideBar": true,
   "skip_h1_title": false,
   "title_cell": "Table of Contents",
   "title_sidebar": "Contents",
   "toc_cell": false,
   "toc_position": {},
   "toc_section_display": true,
   "toc_window_display": false
  }
 },
 "nbformat": 4,
 "nbformat_minor": 4
}
